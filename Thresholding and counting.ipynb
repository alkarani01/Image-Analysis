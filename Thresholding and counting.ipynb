{
 "cells": [
  {
   "cell_type": "code",
   "execution_count": null,
   "id": "3fe6e42a-46a2-41dd-81a3-bdd00b56c16b",
   "metadata": {},
   "outputs": [],
   "source": [
    "pip install opencv-python"
   ]
  },
  {
   "cell_type": "code",
   "execution_count": null,
   "id": "be1ed00a-018f-4793-bd20-98c76fbbee53",
   "metadata": {},
   "outputs": [],
   "source": [
    "pip install numpy "
   ]
  },
  {
   "cell_type": "code",
   "execution_count": null,
   "id": "ce526095-dbc1-4050-a2ef-d8a34ab9684a",
   "metadata": {},
   "outputs": [],
   "source": [
    "pip install matplotlib"
   ]
  },
  {
   "cell_type": "code",
   "execution_count": null,
   "id": "1d750d98-f873-46c8-9cde-0bf095342b29",
   "metadata": {},
   "outputs": [],
   "source": [
    "pip install scipy"
   ]
  },
  {
   "cell_type": "code",
   "execution_count": null,
   "id": "ea7c7ace-7887-4831-82cd-bfea91156ea8",
   "metadata": {},
   "outputs": [],
   "source": [
    "pip install scikit-image"
   ]
  },
  {
   "cell_type": "code",
   "execution_count": 1,
   "id": "e8c2c8e8-b25d-4154-bc16-deb0e83ff7e5",
   "metadata": {},
   "outputs": [],
   "source": [
    "import cv2\n",
    "import numpy as np\n",
    "from matplotlib import pyplot as plt\n",
    "from scipy import ndimage\n",
    "from skimage import measure, color, io"
   ]
  },
  {
   "cell_type": "code",
   "execution_count": 2,
   "id": "6fa9456c-6ee5-4916-9012-d18e135d48d5",
   "metadata": {},
   "outputs": [],
   "source": [
    "img1 = cv2.imread(\"SNAP-132445-0096.jpg\")"
   ]
  },
  {
   "cell_type": "code",
   "execution_count": 9,
   "id": "c5798b78-c0b7-402c-9ac0-7a1853cd1838",
   "metadata": {},
   "outputs": [],
   "source": [
    "gray = cv2.cvtColor(img1,cv2.COLOR_BGR2GRAY)\n",
    "cv2.imshow('grayscale',gray)"
   ]
  },
  {
   "cell_type": "code",
   "execution_count": 10,
   "id": "2599d9a2-46f3-4672-bf22-bb0283d21f56",
   "metadata": {},
   "outputs": [],
   "source": [
    "ret,thresh1 = cv2.threshold(gray,80,255,cv2.THRESH_BINARY)\n",
    "cv2.imshow('binary',thresh1)"
   ]
  },
  {
   "cell_type": "code",
   "execution_count": 11,
   "id": "765e7418-55f0-4db3-bba2-19028f362d45",
   "metadata": {},
   "outputs": [],
   "source": [
    "contours, hierarchy = cv2.findContours(thresh1,cv2.RETR_TREE,cv2.CHAIN_APPROX_NONE)"
   ]
  },
  {
   "cell_type": "code",
   "execution_count": 12,
   "id": "66753ea4-ea9c-4f36-94ec-2c1670bb9de6",
   "metadata": {},
   "outputs": [],
   "source": [
    "img = cv2.drawContours(thresh1, contours, -1, (0,255,0), 3)\n",
    "cv2.imshow('contours',img)"
   ]
  },
  {
   "cell_type": "code",
   "execution_count": 13,
   "id": "8e215736-f98c-4881-b5fc-6affaffebde3",
   "metadata": {},
   "outputs": [
    {
     "name": "stdout",
     "output_type": "stream",
     "text": [
      "Total Area:  20.0\n",
      "Cell Count:  18\n"
     ]
    }
   ],
   "source": [
    "cnt = contours[0]\n",
    "area = cv2.contourArea(cnt)\n",
    "print(\"Total Area: \", area)\n",
    "print(\"Cell Count: \", len(cnt))"
   ]
  },
  {
   "cell_type": "code",
   "execution_count": null,
   "id": "f29f1c7b-3451-4ca2-acf9-648bb095b99d",
   "metadata": {},
   "outputs": [],
   "source": []
  },
  {
   "cell_type": "code",
   "execution_count": null,
   "id": "3c63c124-5493-4ab3-b24e-3c2adc594578",
   "metadata": {},
   "outputs": [],
   "source": []
  }
 ],
 "metadata": {
  "kernelspec": {
   "display_name": "Python 3 (ipykernel)",
   "language": "python",
   "name": "python3"
  },
  "language_info": {
   "codemirror_mode": {
    "name": "ipython",
    "version": 3
   },
   "file_extension": ".py",
   "mimetype": "text/x-python",
   "name": "python",
   "nbconvert_exporter": "python",
   "pygments_lexer": "ipython3",
   "version": "3.10.12"
  }
 },
 "nbformat": 4,
 "nbformat_minor": 5
}
