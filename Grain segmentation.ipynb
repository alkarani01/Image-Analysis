{
 "cells": [
  {
   "cell_type": "code",
   "execution_count": null,
   "id": "3fe6e42a-46a2-41dd-81a3-bdd00b56c16b",
   "metadata": {},
   "outputs": [],
   "source": [
    "pip install opencv-python"
   ]
  },
  {
   "cell_type": "code",
   "execution_count": null,
   "id": "be1ed00a-018f-4793-bd20-98c76fbbee53",
   "metadata": {},
   "outputs": [],
   "source": [
    "pip install numpy "
   ]
  },
  {
   "cell_type": "code",
   "execution_count": null,
   "id": "ce526095-dbc1-4050-a2ef-d8a34ab9684a",
   "metadata": {},
   "outputs": [],
   "source": [
    "pip install matplotlib"
   ]
  },
  {
   "cell_type": "code",
   "execution_count": null,
   "id": "1d750d98-f873-46c8-9cde-0bf095342b29",
   "metadata": {},
   "outputs": [],
   "source": [
    "pip install scipy"
   ]
  },
  {
   "cell_type": "code",
   "execution_count": null,
   "id": "ea7c7ace-7887-4831-82cd-bfea91156ea8",
   "metadata": {},
   "outputs": [],
   "source": [
    "pip install scikit-image"
   ]
  },
  {
   "cell_type": "code",
   "execution_count": 1,
   "id": "e8c2c8e8-b25d-4154-bc16-deb0e83ff7e5",
   "metadata": {},
   "outputs": [],
   "source": [
    "import cv2\n",
    "import numpy as np\n",
    "from matplotlib import pyplot as plt\n",
    "from scipy import ndimage\n",
    "from skimage import measure, color, io"
   ]
  },
  {
   "cell_type": "code",
   "execution_count": 2,
   "id": "6fa9456c-6ee5-4916-9012-d18e135d48d5",
   "metadata": {},
   "outputs": [],
   "source": [
    "img1 = cv2.imread(\"SNAP-132445-0096.jpg\")"
   ]
  },
  {
   "cell_type": "code",
   "execution_count": 3,
   "id": "f29f1c7b-3451-4ca2-acf9-648bb095b99d",
   "metadata": {},
   "outputs": [],
   "source": [
    "img = cv2.cvtColor(img1,cv2.COLOR_BGR2GRAY)"
   ]
  },
  {
   "cell_type": "code",
   "execution_count": 4,
   "id": "3c63c124-5493-4ab3-b24e-3c2adc594578",
   "metadata": {},
   "outputs": [],
   "source": [
    "pixels_to_um = 0.5 # 1 pixel = 500 nm"
   ]
  },
  {
   "cell_type": "code",
   "execution_count": 5,
   "id": "f1864fd7-4096-4e31-a73d-8d070521cc36",
   "metadata": {},
   "outputs": [],
   "source": [
    "ret1, thresh = cv2.threshold(img, 0, 255, cv2.THRESH_BINARY+cv2.THRESH_OTSU)"
   ]
  },
  {
   "cell_type": "code",
   "execution_count": 6,
   "id": "c367d8f0-5abb-4582-ba6f-b519f8be0d3f",
   "metadata": {},
   "outputs": [],
   "source": [
    "kernel = np.ones((3,3),np.uint8)\n",
    "opening = cv2.morphologyEx(thresh,cv2.MORPH_OPEN,kernel, iterations = 2)"
   ]
  },
  {
   "cell_type": "code",
   "execution_count": 7,
   "id": "f6f571d3-25ca-4a54-b432-1bcdb30f06ee",
   "metadata": {},
   "outputs": [],
   "source": [
    "from skimage.segmentation import clear_border\n",
    "opening = clear_border(opening)"
   ]
  },
  {
   "cell_type": "code",
   "execution_count": 8,
   "id": "0a7aa739-28fe-4eeb-988f-0281bf70b6ed",
   "metadata": {},
   "outputs": [],
   "source": [
    "sure_bg = cv2.dilate(opening,kernel,iterations=2)"
   ]
  },
  {
   "cell_type": "code",
   "execution_count": 9,
   "id": "da0b21c9-6144-4a22-b2fc-9680153b4187",
   "metadata": {},
   "outputs": [],
   "source": [
    "dist_transform = cv2.distanceTransform(opening,cv2.DIST_L2,3)"
   ]
  },
  {
   "cell_type": "code",
   "execution_count": 10,
   "id": "8d62cf6c-7c1b-410b-ab96-cb7b9a162eda",
   "metadata": {},
   "outputs": [],
   "source": [
    "ret2, sure_fg = cv2.threshold(dist_transform,0.2*dist_transform.max(),255,0)"
   ]
  },
  {
   "cell_type": "code",
   "execution_count": 11,
   "id": "b5ff250a-e4cb-482c-97e7-06f29fad41b5",
   "metadata": {},
   "outputs": [],
   "source": [
    "sure_fg = np.uint8(sure_fg)"
   ]
  },
  {
   "cell_type": "code",
   "execution_count": 12,
   "id": "36fa41a0-8e00-4f22-8236-80a805fae120",
   "metadata": {},
   "outputs": [],
   "source": [
    "unknown = cv2.subtract(sure_bg,sure_fg)"
   ]
  },
  {
   "cell_type": "code",
   "execution_count": 13,
   "id": "12767aca-1ca5-468a-958d-d6a6592993f3",
   "metadata": {},
   "outputs": [],
   "source": [
    "ret3, markers = cv2.connectedComponents(sure_fg)"
   ]
  },
  {
   "cell_type": "code",
   "execution_count": 14,
   "id": "73f06672-6786-4fee-adcc-2c1df46f435c",
   "metadata": {},
   "outputs": [],
   "source": [
    "markers = markers+10"
   ]
  },
  {
   "cell_type": "code",
   "execution_count": 15,
   "id": "b28d4d83-cf16-4de0-b39b-ded079e9c656",
   "metadata": {},
   "outputs": [],
   "source": [
    "markers[unknown==255] = 0"
   ]
  },
  {
   "cell_type": "code",
   "execution_count": 26,
   "id": "de46d788-2cc8-4d0b-b293-fdd152d53e78",
   "metadata": {},
   "outputs": [],
   "source": [
    "markers = cv2.watershed(img1,markers)"
   ]
  },
  {
   "cell_type": "code",
   "execution_count": 27,
   "id": "675b18b9-448d-442b-a4d8-118f4c85134a",
   "metadata": {},
   "outputs": [],
   "source": [
    "img1[markers == -1] = [0,255,255]  "
   ]
  },
  {
   "cell_type": "code",
   "execution_count": 28,
   "id": "988962c6-6e33-4bc1-b855-b6256db71322",
   "metadata": {},
   "outputs": [],
   "source": [
    "img2 = color.label2rgb(markers, bg_label=0)"
   ]
  },
  {
   "cell_type": "code",
   "execution_count": null,
   "id": "9543d33b-d4cd-46b1-8ff6-a4f015622028",
   "metadata": {},
   "outputs": [],
   "source": [
    "cv2.imshow('Overlay on original image', img1)\n",
    "cv2.imshow('Colored Grains', img2)\n",
    "cv2.waitKey(0)"
   ]
  },
  {
   "cell_type": "code",
   "execution_count": null,
   "id": "93e56088-ba24-4074-9ba8-e7f518a5ea8b",
   "metadata": {},
   "outputs": [],
   "source": [
    "regions = measure.regionprops(markers, intensity_image=img)"
   ]
  },
  {
   "cell_type": "code",
   "execution_count": null,
   "id": "d4ee5e20-4255-4e1c-a803-ee4227e491d9",
   "metadata": {},
   "outputs": [],
   "source": [
    "propList = ['Area',\n",
    "            'equivalent_diameter', #Added... verify if it works\n",
    "            'orientation', #Added, verify if it works. Angle btwn x-axis and major axis.\n",
    "            'MajorAxisLength',\n",
    "            'MinorAxisLength',\n",
    "            'Perimeter',\n",
    "            'MinIntensity',\n",
    "            'MeanIntensity',\n",
    "            'MaxIntensity']   "
   ]
  },
  {
   "cell_type": "code",
   "execution_count": null,
   "id": "17dcb25f-cd33-4cd4-bd81-2c1bb89b6a8f",
   "metadata": {},
   "outputs": [],
   "source": [
    "output_file = open('image_measurements.csv', 'w')\n",
    "output_file.write('Grain #' + \",\" + \",\" + \",\".join(propList) + '\\n')"
   ]
  },
  {
   "cell_type": "code",
   "execution_count": null,
   "id": "ffec30e4-1a5c-4bbe-a520-07b5ab693a35",
   "metadata": {},
   "outputs": [],
   "source": [
    "grain_number = 1\n",
    "for region_props in regions:\n",
    "    output_file.write(str(grain_number) + ',')"
   ]
  },
  {
   "cell_type": "code",
   "execution_count": null,
   "id": "06702e22-20cb-4850-bf54-0f693865a3b6",
   "metadata": {},
   "outputs": [],
   "source": [
    "for i,prop in enumerate(propList):\n",
    "        if(prop == 'Area'): \n",
    "            to_print = region_props[prop]*pixels_to_um**2   #Convert pixel square to um square\n",
    "        elif(prop == 'orientation'): \n",
    "            to_print = region_props[prop]*57.2958  #Convert to degrees from radians\n",
    "        elif(prop.find('Intensity') < 0):          # Any prop without Intensity in its name\n",
    "            to_print = region_props[prop]*pixels_to_um\n",
    "        else: \n",
    "            to_print = region_props[prop]     #Reamining props, basically the ones with Intensity in its name\n",
    "        output_file.write(',' + str(to_print))\n",
    "        output_file.write('\\n')\n",
    "        grain_number += 1\n",
    "output_file.close() "
   ]
  },
  {
   "cell_type": "code",
   "execution_count": null,
   "id": "718155ba-c587-4e18-98c6-5416c7e6ffc7",
   "metadata": {},
   "outputs": [],
   "source": [
    " "
   ]
  },
  {
   "cell_type": "code",
   "execution_count": null,
   "id": "3013ee58-7862-4d06-828b-da7c2bd818af",
   "metadata": {},
   "outputs": [],
   "source": []
  },
  {
   "cell_type": "code",
   "execution_count": null,
   "id": "427db7e0-788c-4964-8f2a-6896595a9015",
   "metadata": {},
   "outputs": [],
   "source": []
  },
  {
   "cell_type": "code",
   "execution_count": null,
   "id": "094bf01f-2a3c-4f0e-90a4-c677c5cc2a42",
   "metadata": {},
   "outputs": [],
   "source": []
  }
 ],
 "metadata": {
  "kernelspec": {
   "display_name": "Python 3 (ipykernel)",
   "language": "python",
   "name": "python3"
  },
  "language_info": {
   "codemirror_mode": {
    "name": "ipython",
    "version": 3
   },
   "file_extension": ".py",
   "mimetype": "text/x-python",
   "name": "python",
   "nbconvert_exporter": "python",
   "pygments_lexer": "ipython3",
   "version": "3.10.12"
  }
 },
 "nbformat": 4,
 "nbformat_minor": 5
}
